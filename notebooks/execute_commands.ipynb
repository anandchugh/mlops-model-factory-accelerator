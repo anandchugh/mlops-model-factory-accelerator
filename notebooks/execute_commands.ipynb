{
 "cells": [
  {
   "cell_type": "markdown",
   "metadata": {},
   "source": [
    "# This is a standalone notebook, used for development purposes\n",
    "\n",
    "This is a sample notebook to execute a command in the AML workspace. This notebook can be used for development purposes by the Data scientists, to try out their experiments.\n",
    "\n",
    "## Pre-requisites\n",
    "\n",
    "- AML Workspace needs to be configured\n",
    "- `azure-cli` should be present in the machine, where this notebook is being executed\n",
    "- `azure-cli` should be logged in and the default subscription should be set to the subscription, where the AML workspace is present"
   ]
  },
  {
   "cell_type": "markdown",
   "metadata": {},
   "source": [
    "## Setup variables\n",
    "\n",
    "For loading secrets it's recommended to load them as an environment variable and use them in the notebook as `os.environ.get('MY_SECRET')`. You can load them using `python-dotenv`(https://pypi.org/project/python-dotenv/) or other similar libraries."
   ]
  },
  {
   "cell_type": "code",
   "execution_count": null,
   "metadata": {},
   "outputs": [],
   "source": [
    "subscription_id = \"add-your-subscription-id-here\"\n",
    "resource_group_name = \"jupyter-notebook-test\"\n",
    "workspace_name = \"jupyter-test-2fe8\"\n",
    "\n",
    "# compute related variables\n",
    "cluster_name = \"jupytertest2fe8\"\n",
    "cluster_size = \"Standard_DS11_v2\"\n",
    "cluster_region = \"centralus\"\n",
    "min_instances = 1\n",
    "max_instances = 1\n",
    "idle_time_before_scale_down = 0\n",
    "\n",
    "# environment related variables\n",
    "env_base_image_name = \"mcr.microsoft.com/azureml/openmpi4.1.0-ubuntu20.04\"\n",
    "conda_path = \"path to the conda file\"\n",
    "environment_name = \"test2fe8\"\n",
    "description = \"test-env-name\"\n",
    "\n",
    "#command related\n",
    "experiment_name = \"exp2fe8\"\n",
    "display_name = \"Experiment 2fe8\""
   ]
  },
  {
   "cell_type": "code",
   "execution_count": null,
   "metadata": {},
   "outputs": [],
   "source": [
    "#install packages\n",
    "\n",
    "%pip install azure-ai-ml==1.7.2\n",
    "%pip install azure-identity==1.13.0"
   ]
  },
  {
   "cell_type": "markdown",
   "metadata": {},
   "source": [
    "## Create an AML Client to interact with the workspace"
   ]
  },
  {
   "cell_type": "code",
   "execution_count": null,
   "metadata": {},
   "outputs": [],
   "source": [
    "from azure.ai.ml import MLClient\n",
    "from azure.identity import AzureCliCredential\n",
    "\n",
    "\n",
    "client = MLClient(\n",
    "        AzureCliCredential(),\n",
    "        subscription_id=subscription_id,\n",
    "        resource_group_name=resource_group_name,\n",
    "        workspace_name=workspace_name)"
   ]
  },
  {
   "cell_type": "markdown",
   "metadata": {},
   "source": [
    "## Create a compute, or get a compute if already exists to run the command\n",
    "\n",
    "The following block of code will help in creating a compute instance within the AML workspace. If the workspace already has a compute instance, it will return the existing compute instance."
   ]
  },
  {
   "cell_type": "code",
   "execution_count": null,
   "metadata": {},
   "outputs": [],
   "source": [
    "from azure.ai.ml.entities import AmlCompute\n",
    "\n",
    "def create_or_get_compute():\n",
    "    compute_object = None\n",
    "    try:\n",
    "        try:\n",
    "            compute_object = client.compute.get(cluster_name)\n",
    "            print(f\"Found existing compute target {cluster_name}, so using it.\")\n",
    "        except:\n",
    "            print(f\"{cluster_name} is not found! Trying to create a new one.\")\n",
    "            compute_object = AmlCompute(\n",
    "                name=cluster_name,\n",
    "                type=\"amlcompute\",\n",
    "                size=cluster_size,\n",
    "                location=cluster_region,\n",
    "                min_instances=min_instances,\n",
    "                max_instances=max_instances,\n",
    "                idle_time_before_scale_down=idle_time_before_scale_down,\n",
    "            )\n",
    "            compute_object = client.compute.begin_create_or_update(\n",
    "                compute_object\n",
    "            ).result()\n",
    "            print(f\"A new cluster {cluster_name} has been created.\")\n",
    "    except Exception as ex:\n",
    "        print(\"Oops!  invalid credentials.. Try again...\")\n",
    "        raise\n",
    "    return compute_object\n",
    "\n",
    "compute = create_or_get_compute()"
   ]
  },
  {
   "cell_type": "markdown",
   "metadata": {},
   "source": [
    "## Create an environment, or get an existing environment from the workspace\n",
    "\n",
    "The following block of code will help in creating an environment within the AML workspace. If the workspace already has a environment, it will return the existing environment."
   ]
  },
  {
   "cell_type": "code",
   "execution_count": null,
   "metadata": {},
   "outputs": [],
   "source": [
    "from azure.ai.ml.entities import Environment\n",
    "\n",
    "def create_or_get_environment():\n",
    "    try:\n",
    "        print(f\"Checking {environment_name} environment.\")\n",
    "        env_docker_conda = Environment(\n",
    "            image=env_base_image_name,\n",
    "            conda_file=conda_path,\n",
    "            name=environment_name,\n",
    "            description=description,\n",
    "        )\n",
    "        environment = client.environments.create_or_update(env_docker_conda)\n",
    "        print(f\"Environment {environment_name} has been created or updated.\")\n",
    "        return environment\n",
    "\n",
    "    except Exception as ex:\n",
    "        print(\n",
    "            \"Oops! invalid credentials or error while creating ML environment.. Try again...\"\n",
    "        )\n",
    "        raise\n",
    "\n",
    "environment = create_or_get_environment()"
   ]
  },
  {
   "cell_type": "markdown",
   "metadata": {},
   "source": [
    "## Define the command to be executed in AML\n",
    "\n",
    "In the below section, we are creating a sample command job that will be executed in the AML compute. You can change the command as per your requirement. This command job needs to be written to a file and then referred while creating the command."
   ]
  },
  {
   "cell_type": "code",
   "execution_count": null,
   "metadata": {},
   "outputs": [],
   "source": [
    "%%writefile data_prep.py\n",
    "import argparse\n",
    "\n",
    "def main(raw_data_path, prep_data_path):\n",
    "    print(f\"function to process raw data from: {raw_data_path} and prep data from: {prep_data_path}\")\n",
    "    # perform the data prep activity\n",
    "\n",
    "if __name__ == \"__main__\":\n",
    "    parser = argparse.ArgumentParser()\n",
    "    parser.add_argument(\n",
    "        \"--raw_data_path\", type=str, default=\"../data/raw_data\", help=\"Path to raw data\",\n",
    "    )\n",
    "    parser.add_argument(\n",
    "        \"--prep_data_path\", type=str, default=\"../data/prep_data\", help=\"Path to prep data\"\n",
    "    )\n",
    "    args = parser.parse_args()\n",
    "    main(args.raw_data_path, args.prep_data_path)\n"
   ]
  },
  {
   "cell_type": "markdown",
   "metadata": {},
   "source": [
    "## Create a command job and submit it to the AML compute"
   ]
  },
  {
   "cell_type": "code",
   "execution_count": null,
   "metadata": {},
   "outputs": [],
   "source": [
    "from azure.ai.ml import command\n",
    "\n",
    "command_job = command(\n",
    "        experiment_name=experiment_name,\n",
    "        display_name=display_name,\n",
    "        code=\"./\",\n",
    "        command=\"python ./data_prep.py --raw_data ../data/raw_data --prep_data ../data/prep_data\",\n",
    "        environment=environment,\n",
    "        compute=cluster_name,\n",
    "        environment_variables={\n",
    "            \"ENV_VARIABLES_FOR_COMMAND\": \"\"\n",
    "        }\n",
    "    )\n",
    "\n",
    "returned_job = client.jobs.create_or_update(command_job)"
   ]
  },
  {
   "cell_type": "markdown",
   "metadata": {},
   "source": [
    "## Wait for the job to complete and print the logs - (Optional)"
   ]
  },
  {
   "cell_type": "code",
   "execution_count": null,
   "metadata": {},
   "outputs": [],
   "source": [
    "import time\n",
    "\n",
    "total_wait_time_in_sec = 21600\n",
    "current_wait_time = 0\n",
    "job_status = [\n",
    "    \"NotStarted\",\n",
    "    \"Queued\",\n",
    "    \"Starting\",\n",
    "    \"Preparing\",\n",
    "    \"Running\",\n",
    "    \"Finalizing\",\n",
    "    \"Provisioning\",\n",
    "    \"CancelRequested\",\n",
    "    \"Failed\",\n",
    "    \"Canceled\",\n",
    "    \"NotResponding\",\n",
    "]\n",
    "\n",
    "while returned_job.status in job_status:\n",
    "    if current_wait_time <= total_wait_time_in_sec:\n",
    "        time.sleep(20)\n",
    "        returned_job = client.jobs.get(returned_job.name)\n",
    "\n",
    "        current_wait_time = current_wait_time + 15\n",
    "\n",
    "        if (\n",
    "            returned_job.status == \"Failed\"\n",
    "            or returned_job.status == \"NotResponding\"\n",
    "            or returned_job.status == \"CancelRequested\"\n",
    "            or returned_job.status == \"Canceled\"\n",
    "        ):\n",
    "            break\n",
    "    else:\n",
    "        break\n",
    "if (\n",
    "    returned_job.status == \"Completed\"\n",
    "    or returned_job.status == \"Finished\"\n",
    "):\n",
    "    print(\"job completed\")\n",
    "else:\n",
    "    print(\"Exiting job with failure\")\n",
    "    raise Exception(\"Sorry, exiting job with failure..\")"
   ]
  }
 ],
 "metadata": {
  "kernelspec": {
   "display_name": "Python 3",
   "language": "python",
   "name": "python3"
  },
  "language_info": {
   "codemirror_mode": {
    "name": "ipython",
    "version": 3
   },
   "file_extension": ".py",
   "mimetype": "text/x-python",
   "name": "python",
   "nbconvert_exporter": "python",
   "pygments_lexer": "ipython3",
   "version": "3.10.12"
  },
  "orig_nbformat": 4
 },
 "nbformat": 4,
 "nbformat_minor": 2
}
